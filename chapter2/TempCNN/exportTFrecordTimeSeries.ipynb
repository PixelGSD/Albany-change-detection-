{
  "cells": [
    {
      "cell_type": "code",
      "execution_count": null,
      "metadata": {
        "id": "oM4qprQLu6iC"
      },
      "outputs": [],
      "source": [
        "!pip install earthengine-api"
      ]
    },
    {
      "cell_type": "code",
      "execution_count": null,
      "metadata": {
        "id": "vxfGy98phTr9"
      },
      "outputs": [],
      "source": [
        "from google.colab import auth\n",
        "auth.authenticate_user()"
      ]
    },
    {
      "cell_type": "code",
      "execution_count": null,
      "metadata": {
        "id": "fZbbkvGBcUip"
      },
      "outputs": [],
      "source": [
        "import ee\n",
        "ee.Authenticate()\n",
        "#\n",
        "ee.Initialize(project='ee-craigmahlasi')"
      ]
    },
    {
      "cell_type": "code",
      "execution_count": null,
      "metadata": {
        "id": "8lEEcUU4dKU2"
      },
      "outputs": [],
      "source": [
        "\n",
        "\n",
        "import tensorflow as tf\n"
      ]
    },
    {
      "cell_type": "code",
      "execution_count": null,
      "metadata": {
        "id": "3AcVONsDOLBe"
      },
      "outputs": [],
      "source": [
        "\n",
        "roi2 = ee.Geometry.Polygon([[25.919320697790617,-33.696946915050006],\n",
        "[26.01613771439218,-33.70437320627141],\n",
        "[26.07106935501718,-33.70837171255948],\n",
        "[26.081369037634367,-33.68437788296609],\n",
        "[26.086175556189055,-33.687805983108305],\n",
        "[26.09578859329843,-33.69009130724683],\n",
        "[26.100595111853117,-33.68666329825191],\n",
        "[26.108148212439055,-33.687234642579014],\n",
        "[26.116387958532805,-33.68894865277336],\n",
        "[26.12325441361093,-33.68894865277336],\n",
        "[26.165139789587492,-33.696946915050006],\n",
        "[26.173379535681242,-33.70037451384461],\n",
        "[26.176812763220305,-33.69523306437467],\n",
        "[26.253030414587492,-33.72036611448304],\n",
        "[26.305215473181242,-33.731216748561714],\n",
        "[26.308648700720305,-33.739782069576016],\n",
        "[26.401345844274992,-33.75805189614571],\n",
        "[26.463143939978117,-33.753484804426826],\n",
        "[26.478250141149992,-33.75748102298649],\n",
        "[26.531121845251555,-33.75063024855424],\n",
        "[26.552407855993742,-33.74663371067901],\n",
        "[26.54897462845468,-33.740924047768324],\n",
        "[26.567514057165617,-33.7386400761809],\n",
        "[26.57094728470468,-33.73007464115359],\n",
        "[26.566140766149992,-33.72550605951694],\n",
        "[26.572320575720305,-33.72379277870373],\n",
        "[26.581246967321867,-33.720366114483014],\n",
        "[26.58742677689218,-33.724363876108],\n",
        "[26.59566652298593,-33.723221677499650],\n",
        "[26.613519306189055,-33.71408354148434],\n",
        "[26.64510499954843,-33.69409047826647],\n",
        "[26.640298480993742,-33.69009130724679],\n",
        "[26.632745380407805,-33.69351917951509],\n",
        "[26.627252216345305,-33.68951998190902],\n",
        "[26.624505634314055,-33.68437788296606],\n",
        "[26.626565570837492,-33.673521330607244],\n",
        "[26.635491962439055,-33.67923547641372],\n",
        "[26.640298480993742,-33.67752127254264],\n",
        "[26.640985126501555,-33.672949895142324],\n",
        "[26.646478290564055,-33.67180701282146],\n",
        "[26.632745380407805,-33.66209189991218],\n",
        "[26.626565570837492,-33.65694816065234],\n",
        "[26.63411867142343,-33.65180411390608],\n",
        "[26.626565570837492,-33.649517772214466],\n",
        "[26.61489259720468,-33.648946177302186],\n",
        "[26.615579242712492,-33.64494490663883],\n",
        "[26.605279560095305,-33.634083377390226],\n",
        "[26.60939943314218,-33.630081416007414],\n",
        "[26.607339496618742,-33.62093337750786],\n",
        "[26.604592914587492,-33.61693080522914],\n",
        "[26.59841310501718,-33.62093337750786],\n",
        "[26.597039814001555,-33.61635899401343],\n",
        "[26.588113422399992,-33.61921801215255],\n",
        "[26.58193361282968,-33.61464353760319],\n",
        "[26.58468019486093,-33.60435008214719],\n",
        "[26.579873676306242,-33.60492197302763],\n",
        "[26.562020893103117,-33.58375948442229],\n",
        "[26.537301654821867,-33.574606530069566],\n",
        "[26.544168109899992,-33.56201963299269],\n",
        "[26.533181781774992,-33.554581058643606],\n",
        "[26.524942035681242,-33.56201963299265],\n",
        "[26.51876222611093,-33.55229213765819],\n",
        "[26.51052248001718,-33.554008834082815],\n",
        "[26.51601564407968,-33.54428043664414],\n",
        "[26.509149189001555,-33.542563546925315],\n",
        "[26.497476215368742,-33.542563546925315],\n",
        "[26.497476215368742,-33.54828638000817],\n",
        "[26.489923114782805,-33.549430901144774],\n",
        "[26.483743305212492,-33.547714113754736],\n",
        "[26.479623432165617,-33.54027430757706],\n",
        "[26.47481691361093,-33.54027430757706],\n",
        "[26.47481691361093,-33.5448527256374],\n",
        "[26.46383058548593,-33.545425010840766],\n",
        "[26.46383058548593,-33.539129665164985],\n",
        "[26.46383058548593,-33.53340622573557],\n",
        "[26.468637104040617,-33.51165370038075],\n",
        "[26.451470966345305,-33.50421079114885],\n",
        "[26.445977802282805,-33.49676724181021],\n",
        "[26.437738056189055,-33.49504940875987],\n",
        "[26.421945209509367,-33.49504940875987],\n",
        "[26.419198627478117,-33.50993616276051],\n",
        "[26.409585590368742,-33.50192053644921],\n",
        "[26.399972553259367,-33.50020280565575],\n",
        "[26.391732807165617,-33.51508867334347],\n",
        "[26.38692628861093,-33.51337120390868],\n",
        "[26.38692628861093,-33.51737857955458],\n",
        "[26.362893695837492,-33.50650098524668],\n",
        "[26.362893695837492,-33.51165370038075],\n",
        "[26.352594013220305,-33.520813325220026],\n",
        "[26.34298097611093,-33.53741267312519],\n",
        "[26.32924806595468,-33.525392773947594],\n",
        "[26.300408954626555,-33.517951046636554],\n",
        "[26.292169208532805,-33.512226205344795],\n",
        "[26.283929462439055,-33.50192053644921],\n",
        "[26.27980958939218,-33.49275891167348],\n",
        "[26.27156984329843,-33.49046835399555],\n",
        "[26.277749652868742,-33.482450924994154],\n",
        "[26.221444721228117,-33.48531437769307],\n",
        "[26.223504657751555,-33.491040999095375],\n",
        "[26.169259662634367,-33.5013479633055],\n",
        "[26.159646625524992,-33.53054436392199],\n",
        "[26.146257259724106,-33.52968649549945],\n",
        "[26.132867450720305,-33.53340622573557],\n",
        "[26.130120868689055,-33.52825480626732],\n",
        "[26.122567768103117,-33.53397858673066],\n",
        "[26.112954730993742,-33.531116743863016],\n",
        "[26.106088275915617,-33.53741267312519],\n",
        "[26.11226808548593,-33.543135847288056],\n",
        "[26.102655048376555,-33.5505754071208],\n",
        "[26.097848529821867,-33.54599729225422],\n",
        "[26.099221820837492,-33.54084662309865],\n",
        "[26.091668720251555,-33.54084662309865],\n",
        "[26.090982074743742,-33.55171989793599],\n",
        "[26.085488910681242,-33.55171989793599],\n",
        "[26.079995746618742,-33.56488045254252],\n",
        "[26.044290180212492,-33.554581058643606],\n",
        "[26.025750751501555,-33.56316397218538],\n",
        "[26.003091449743742,-33.56831331089872],\n",
        "[25.99691164017343,-33.56545260507959],\n",
        "[25.975889428296355,-33.576895813478],\n",
        "[25.97683761067437,-33.58490572875496],\n",
        "[25.944396652374646,-33.58948010235973],\n",
        "[25.944907455334935,-33.62779337772688],\n",
        "[25.93417389264248,-33.62293461960829],\n",
        "[25.920693988806242,-33.62607926868737],\n",
        "[25.919320697790617,-33.696946915050006]])\n"
      ]
    },
    {
      "cell_type": "code",
      "execution_count": null,
      "metadata": {
        "id": "Owwy5r4Swerw"
      },
      "outputs": [],
      "source": [
        "\n",
        "AOI2 = ee.Geometry.Polygon([\n",
        "[25.852342445846375,-33.81059036401218],\n",
        "[26.688676674362,-33.81059036401218],\n",
        "[26.688676674362,-33.50539042299576],\n",
        "[25.852342445846375,-33.50539042299576],\n",
        "[25.852342445846375,-33.81059036401218]])\n",
        "tiles = '35HMC'\n",
        "bands = ['B1','B2', 'B3', 'B4', 'B5', 'B6', 'B7','B8', 'B8A', 'B9','B10', 'B11', 'B12','NDVI', 'NDWI', 'Fe2',  'SAVI', 'MSI']\n",
        "\n",
        "#START_DATE = ee.Date('2016-01-01')\n",
        "#END_DATE = ee.Date('2019-12-31')\n",
        "#dstep = 5\n",
        "CLOUD_FILTER = 60\n",
        "CLD_PRB_THRESH = 50\n",
        "NIR_DRK_THRESH = 0.15\n",
        "CLD_PRJ_DIST = 1\n",
        "BUFFER = 50\n",
        "\n",
        "roi = ee.FeatureCollection('users/craigmahlasi/Alexandria_regional_assessment_AOI')\n",
        "labels = ee.FeatureCollection('projects/ee-craigmahlasi/assets/Support_set') #highest accuracy\n",
        "\n",
        "\n",
        "\n",
        "label = 'Class'\n",
        "\n",
        "#labels = ee.FeatureCollection('projects/ee-craigmahlasi1/assets/dated_clearings_Kasouga_Dune_Thicket_with_vegemap_points')#\n",
        "#label = 'Class'\n",
        "\n",
        "featureNames = list(bands)\n",
        "featureNames.append(label)"
      ]
    },
    {
      "cell_type": "code",
      "execution_count": null,
      "metadata": {
        "id": "AdLGBxxI45xC"
      },
      "outputs": [],
      "source": [
        "\n",
        "OUTPUT_BUCKET = 'albany_bucket'\n",
        "\n",
        "# File names for the training and testing datasets.  These TFRecord files\n",
        "# will be exported fr\n",
        "TRAIN_FILE_PREFIX ='Training_demo75'\n",
        "TEST_FILE_PREFIX = 'Testing_demo75'\n",
        "VAL_FILE_PREFIX = 'Validation_demo75'\n",
        "file_extension = '.tfrecord.gz'\n",
        "TRAIN_FILE_PATH = 'gs://' + OUTPUT_BUCKET + '/' + TRAIN_FILE_PREFIX + file_extension\n",
        "TEST_FILE_PATH = 'gs://' + OUTPUT_BUCKET + '/' + TEST_FILE_PREFIX + file_extension\n",
        "VAL_FILE_PATH = 'gs://' + OUTPUT_BUCKET + '/' + VAL_FILE_PREFIX + file_extension\n",
        "\n",
        "# File name for the prediction (image) dataset.  The trained model will read\n",
        "# this dataset and make predictions in each pixel.\n",
        "IMAGE_FILE_PREFIX = 'Image_pixel_demo_'\n",
        "\n",
        "# The output path for the classified image (i.e. predictions) TFRecord file.\n",
        "OUTPUT_IMAGE_FILE = 'gs://' + OUTPUT_BUCKET + '/Classified_pixel_demo.TFRecord'\n",
        "# Export imagery in this region.\n",
        "\n",
        "USER_NAME = 'craigmahlasi'\n",
        "# The name of the Earth Engine asset to be created by importing\n",
        "# the classified image from the TFRecord file in Cloud Storage.\n",
        "OUTPUT_ASSET_ID = 'users/' + USER_NAME + '/Classified_pixel_demo'\n",
        "\n"
      ]
    },
    {
      "cell_type": "code",
      "source": [],
      "metadata": {
        "id": "9WFaMgY43OlL"
      },
      "execution_count": null,
      "outputs": []
    },
    {
      "cell_type": "code",
      "source": [],
      "metadata": {
        "id": "3D4my5Fi3O1q"
      },
      "execution_count": null,
      "outputs": []
    },
    {
      "cell_type": "code",
      "execution_count": null,
      "metadata": {
        "id": "JPyIhUHOtzJz"
      },
      "outputs": [],
      "source": [
        "\n",
        "# defines date\n",
        "craft = ['Sentinel-2A']\n",
        "Date_Start = ee.Date('2016-01-01')\n",
        "Date_End = ee.Date('2019-12-31')\n",
        "dstep = 10\n",
        "\n",
        "n_day = Date_End.difference(Date_Start,'day').round()\n",
        "dates = ee.List.sequence(0,n_day,dstep)\n",
        "def make_datelist(n):\n",
        "  return Date_Start.advance(n,'day')\n",
        "\n",
        "dates = dates.map(make_datelist)\n"
      ]
    },
    {
      "cell_type": "code",
      "execution_count": null,
      "metadata": {
        "colab": {
          "base_uri": "https://localhost:8080/"
        },
        "id": "n0Zv570GPARD",
        "outputId": "0eaca9a0-39b8-4a4d-d7cf-f2aedd831dee"
      },
      "outputs": [
        {
          "output_type": "execute_result",
          "data": {
            "text/plain": [
              "<ee.ee_list.List at 0x7cc902b1ecb0>"
            ]
          },
          "metadata": {},
          "execution_count": 11
        }
      ],
      "source": [
        "dates"
      ]
    },
    {
      "cell_type": "code",
      "execution_count": null,
      "metadata": {
        "colab": {
          "base_uri": "https://localhost:8080/"
        },
        "id": "eVXvgidkO6gi",
        "outputId": "9a9ffdd3-661d-478c-ffa0-25a2e540a7e3"
      },
      "outputs": [
        {
          "output_type": "execute_result",
          "data": {
            "text/plain": [
              "<function tensorflow.python.util.deprecation.deprecated_args(date, instructions, *deprecated_arg_names_or_tuples, **kwargs)>"
            ]
          },
          "metadata": {},
          "execution_count": 12
        }
      ],
      "source": [
        "from tensorflow.python.util.deprecation import deprecated_args\n",
        "deprecated_args"
      ]
    },
    {
      "cell_type": "code",
      "execution_count": null,
      "metadata": {
        "id": "LMj2XX9Qup5l"
      },
      "outputs": [],
      "source": [
        "\n",
        "#def get_s2_sr_cld_col(aoi, start_date, end_date):\n",
        "def get_s2_sr_cld_col(aoi, Date_Start, Date_End):\n",
        "    # Import and filter S2 SR.\n",
        "\n",
        "    s2_sr_col = (ee.ImageCollection('COPERNICUS/S2')\n",
        "        .filterBounds(aoi)\n",
        "        #.filter(ee.Filter.inList('SPACECRAFT_NAME', craft)\n",
        "        .filterMetadata('MGRS_TILE', 'equals', tiles)\n",
        "        .filter(ee.Filter.lte('CLOUDY_PIXEL_PERCENTAGE', CLOUD_FILTER)))\\\n",
        "        .filterDate(Date_Start, Date_End)\\\n",
        "        #.set('system:time_start', dat_str)\n",
        "\n",
        "\n",
        "\n",
        "    # Import and filter s2cloudless.\n",
        "    s2_cloudless_col = (ee.ImageCollection('COPERNICUS/S2_CLOUD_PROBABILITY')\n",
        "        .filterBounds(aoi)\n",
        "        .filterDate(Date_Start, Date_End))\\\n",
        "        #.set('system:time_start', dat_str)\n",
        "\n",
        "\n",
        "    # Join the filtered s2cloudless collection to the SR collection by the 'system:index' property.\n",
        "    return ee.ImageCollection(ee.Join.saveFirst('s2cloudless').apply(**{\n",
        "        'primary': s2_sr_col,\n",
        "        'secondary': s2_cloudless_col,\n",
        "        'condition': ee.Filter.equals(**{\n",
        "            'leftField': 'system:index',\n",
        "            'rightField': 'system:index'\n",
        "        })\n",
        "    }))\n",
        "\n"
      ]
    },
    {
      "cell_type": "code",
      "execution_count": null,
      "metadata": {
        "id": "nQg9wYYuwT0t"
      },
      "outputs": [],
      "source": [
        "s2_sr_cld_col_eval = get_s2_sr_cld_col(roi2, Date_Start, Date_End)"
      ]
    },
    {
      "cell_type": "code",
      "execution_count": null,
      "metadata": {
        "id": "KDeliCVwvsQt"
      },
      "outputs": [],
      "source": [
        "def add_cloud_bands(img):\n",
        "    # Get s2c0-19 0loudless image, subset the probability band.\n",
        "    cld_prb = ee.Image(img.get('s2cloudless')).select('probability')\n",
        "\n",
        "    # Condition s2cloudless by the probability threshold value.\n",
        "    is_cloud = cld_prb.gt(CLD_PRB_THRESH).rename('clouds')\n",
        "\n",
        "    # Add the cloud probability layer and cloud mask as image bands.\n",
        "    return img.addBands(ee.Image([cld_prb, is_cloud]))"
      ]
    },
    {
      "cell_type": "code",
      "execution_count": null,
      "metadata": {
        "id": "_4jmGfcFvyIh"
      },
      "outputs": [],
      "source": [
        "def add_shadow_bands(img):\n",
        "\n",
        "    # Identify water pixels from the SCL band.\n",
        "    not_water = img.select('QA60').eq(10)\n",
        "\n",
        "    # Identify dark NIR pixels that are not water (potential cloud shadow pixels).\n",
        "    SR_BAND_SCALE = 1e4\n",
        "    dark_pixels = img.select('B8').lt(NIR_DRK_THRESH*SR_BAND_SCALE).multiply(not_water).rename('dark_pixels')\n",
        "\n",
        "    # Determine the direction to project cloud shadow from clouds (assumes UTM projection).\n",
        "    shadow_azimuth = ee.Number(90).subtract(ee.Number(img.get('MEAN_SOLAR_AZIMUTH_ANGLE')));\n",
        "\n",
        "    # Project shadows from clouds for the distance specified by the CLD_PRJ_DIST input.\n",
        "    cld_proj = (img.select('clouds').directionalDistanceTransform(shadow_azimuth, CLD_PRJ_DIST*10)\n",
        "        .reproject(**{'crs': img.select(0).projection(), 'scale': 100})\n",
        "        .select('distance')\n",
        "        .mask()\n",
        "        .rename('cloud_transform'))\n",
        "\n",
        "    # Identify the intersection of dark pixels with cloud shadow projection.\n",
        "    shadows = cld_proj.multiply(dark_pixels).rename('shadows')\n",
        "\n",
        "    # Add dark pixels, cloud projection, and identified shadows as image bands.\n",
        "    return img.addBands(ee.Image([dark_pixels, cld_proj, shadows]))"
      ]
    },
    {
      "cell_type": "code",
      "execution_count": null,
      "metadata": {
        "id": "8eQym9hBv7Uh"
      },
      "outputs": [],
      "source": [
        "def add_cld_shdw_mask(img):\n",
        "    # Add cloud component bands.\n",
        "    img_cloud = add_cloud_bands(img)\n",
        "\n",
        "    # Add cloud shadow component bands.\n",
        "    img_cloud_shadow = add_shadow_bands(img_cloud)\n",
        "\n",
        "    # Combine cloud and shadow mask, set cloud and shadow as value 1, else 0.\n",
        "    is_cld_shdw = img_cloud_shadow.select('clouds').add(img_cloud_shadow.select('shadows')).gt(0)\n",
        "\n",
        "    # Remove small cloud-shadow patches and dilate remaining pixels by BUFFER input.\n",
        "    # 20 m scale is for speed, and assumes clouds don't require 10 m precision.\n",
        "    is_cld_shdw = (is_cld_shdw.focal_min(2).focal_max(BUFFER*2/20)\n",
        "        .reproject(**{'crs': img.select([0]).projection(), 'scale': 20})\n",
        "        .rename('cloudmask'))\n",
        "\n",
        "    # Add the final cloud-shadow mask to the image.\n",
        "    return img_cloud_shadow.addBands(is_cld_shdw)"
      ]
    },
    {
      "cell_type": "code",
      "execution_count": null,
      "metadata": {
        "id": "naO8HWA2YSbU"
      },
      "outputs": [],
      "source": [
        "def NDVIoverCollection(img):\n",
        "    # Get s2cloudless image, subset the probability band.\n",
        "    nir = ee.Image.select('B8')\n",
        "    red = ee.Image.select('B4')\n",
        "    NDVI = img.normalizedDifference(['B8', 'B4']).rename('NDVI');\n",
        "\n",
        "    return img.addBands(ee.Image([NDVI]))"
      ]
    },
    {
      "cell_type": "code",
      "execution_count": null,
      "metadata": {
        "id": "5VKAT1luv_2T"
      },
      "outputs": [],
      "source": [
        "def NDWIoverCollection(img):\n",
        "    # Get s2cloudless image, subset the probability band.\n",
        "    green = ee.Image.select('B3')\n",
        "    nir= ee.Image.select('B8')\n",
        "    NDWI = img.normalizedDifference(['B3', 'B8']).rename('NDWI');\n",
        "\n",
        "    return img.addBands(ee.Image([NDWI]))"
      ]
    },
    {
      "cell_type": "code",
      "execution_count": null,
      "metadata": {
        "id": "V-1HzXAS1COY"
      },
      "outputs": [],
      "source": [
        "\n",
        " def SAVIoverCollection(img):\n",
        "  SAVI = img.expression(\n",
        "    '(nir - red) / (nir + 6 * red + 1) / (1 + 1)', {\n",
        "      'nir': img.select('B8'),\n",
        "      'red': img.select('B4')\n",
        "    }).rename('SAVI');\n",
        "  return img.addBands(ee.Image([SAVI]))"
      ]
    },
    {
      "cell_type": "code",
      "execution_count": null,
      "metadata": {
        "id": "mKXRucZuaiq7"
      },
      "outputs": [],
      "source": [
        " def Fe2overCollection(img):\n",
        "  Fe2 = img.expression(\n",
        "    '((swir2 / nir) + (green / red  ))', {\n",
        "      'green': img.select('B3'),\n",
        "      'red': img.select('B4'),\n",
        "      'nir': img.select('B8'),\n",
        "      'swir2': img.select('B12'),\n",
        "    }).rename('Fe2');\n",
        "  return img.addBands(ee.Image([Fe2]))"
      ]
    },
    {
      "cell_type": "code",
      "execution_count": null,
      "metadata": {
        "id": "-rXADvkaMIT7"
      },
      "outputs": [],
      "source": [
        "\n",
        "\n",
        "def EVIoverCollection(img):\n",
        "  EVI = img.expression(\n",
        "    '2.5 * (nir - red) / (nir + 6 * red - 7.5 * blue + 1)', {\n",
        "      'nir': img.select('B8'),\n",
        "      'red': img.select('B4'),\n",
        "      'blue':img.select('B2')\n",
        "    }).rename('EVI');\n",
        "  return img.addBands(ee.Image([EVI]))\n",
        "\n"
      ]
    },
    {
      "cell_type": "code",
      "execution_count": null,
      "metadata": {
        "id": "y0WTi4NARVXR"
      },
      "outputs": [],
      "source": [
        "def TCWoverCollection(img):\n",
        "  TCW = img.expression(\n",
        "      '(0.151 * blue) + (0.197 * green) + (0.328 * red) + (0.341 * nir) - (0.711 * swir1) - (0.457 * swir2)', {\n",
        "        'blue': img.select('B2'),\n",
        "        'green': img.select('B3'),\n",
        "        'red': img.select('B4'),\n",
        "        'nir': img.select('B8'),\n",
        "        'swir1': img.select('B11'),\n",
        "       'swir2': img.select('B12')\n",
        "    }).rename(['TCW'])\n",
        "  return img.addBands(ee.Image([TCW]))"
      ]
    },
    {
      "cell_type": "code",
      "execution_count": null,
      "metadata": {
        "id": "gTJgRde-fyji"
      },
      "outputs": [],
      "source": [
        "def MSIoverCollection(img):\n",
        "  MSI = img.expression(\n",
        "    '(swir / nir)', {\n",
        "        'swir': img.select('B11'),\n",
        "       'nir': img.select('B8')\n",
        "    }).rename(['MSI'])\n",
        "  return img.addBands(ee.Image([MSI]))"
      ]
    },
    {
      "cell_type": "code",
      "execution_count": null,
      "metadata": {
        "id": "tlMlR9Ax48lP"
      },
      "outputs": [],
      "source": [
        "def adddem(img):\n",
        "  dem = ee.Image(\"users/craigmahlasi/slope\")\n",
        "  return img.addBands(dem)\n"
      ]
    },
    {
      "cell_type": "code",
      "execution_count": null,
      "metadata": {
        "id": "h6yRPjam-vn9"
      },
      "outputs": [],
      "source": [
        "def addprep(img):\n",
        "  prep = ee.Image('users/craigmahlasi/rainunit16')\n",
        "  clipped = prep.clip(roi2)\n",
        "  clipped = clipped.double().rename(['rain'])\n",
        "  return img.addBands(clipped)\n"
      ]
    },
    {
      "cell_type": "code",
      "execution_count": null,
      "metadata": {
        "id": "mjydR461j1d-"
      },
      "outputs": [],
      "source": [
        "def addraim(img):\n",
        "  rain = img.expression(\n",
        "    '(rain * 0.1)', {\n",
        "        'rain': img.select('rain'),\n",
        "    }).rename(['rain'])\n",
        "  return img.addBands(rain)"
      ]
    },
    {
      "cell_type": "code",
      "execution_count": null,
      "metadata": {
        "id": "Y9CKBmT__V5i"
      },
      "outputs": [],
      "source": [
        "def addsoc(img):\n",
        "  SOC = ee.Image('users/craigmahlasi/soc2019')\n",
        "  return img.addBands(SOC)\n"
      ]
    },
    {
      "cell_type": "code",
      "execution_count": null,
      "metadata": {
        "id": "BNZLz5-AzG50"
      },
      "outputs": [],
      "source": [
        "s2_sr_cld_col = get_s2_sr_cld_col(AOI2, Date_Start, Date_End)"
      ]
    },
    {
      "cell_type": "code",
      "execution_count": null,
      "metadata": {
        "id": "GHP3IdoczaJ3"
      },
      "outputs": [],
      "source": [
        "\n",
        "def apply_cld_shdw_mask(img):\n",
        "    # Subset the cloudmask band and invert it so clouds/shadow are 0, else 1.\n",
        "    not_cld_shdw = img.select('cloudmask').Not()\n",
        "\n",
        "    # Subset reflectance bands and update their masks, return the result.\n",
        "    return img.select('B.*').updateMask(not_cld_shdw).divide(1000)"
      ]
    },
    {
      "cell_type": "code",
      "execution_count": null,
      "metadata": {
        "id": "vRyS85sqD_Ps"
      },
      "outputs": [],
      "source": [
        "def timeband(img):\n",
        "  timeImage = img.metadata('system:time_start')\n",
        "  #The time image doesn't have a mask.\n",
        "  #We set the mask of the time band to be the same as the first band of the image\n",
        "  timeImageMasked = timeImage.updateMask(img.mask().select(0))\n",
        "  return img.addBands(timeImageMasked)"
      ]
    },
    {
      "cell_type": "code",
      "execution_count": null,
      "metadata": {
        "id": "E48drCbP0wNj"
      },
      "outputs": [],
      "source": [
        "\n",
        "def gap_fill(image, listb):\n",
        "  current = image.unmask(-999)\n",
        "  previous = ee.Image(ee.List(listb).get(-1))\n",
        "  new = current.where(current.eq(-999), previous).set('system:time_start', image.get('system:time_start'))\n",
        "  return ee.List(listb).add(new)"
      ]
    },
    {
      "cell_type": "code",
      "execution_count": null,
      "metadata": {
        "id": "qAaBdVFKVgp4"
      },
      "outputs": [],
      "source": [
        "def thicketmask(img):\n",
        "  datamask = ee.Image('projects/alextifs2019/assets/mask')\n",
        "  mask = datamask.gt(0)\n",
        "  return img.updateMask(mask)\n",
        "  #return img.select('B.*').updateMask(mask)\n"
      ]
    },
    {
      "cell_type": "code",
      "execution_count": null,
      "metadata": {
        "id": "aJrOiBR4pAg3"
      },
      "outputs": [],
      "source": [
        "def clp(img):\n",
        "  return img.clip(roi2)"
      ]
    },
    {
      "cell_type": "code",
      "execution_count": null,
      "metadata": {
        "id": "tENngXWuy-8s"
      },
      "outputs": [],
      "source": [
        "imageswithgaps = (s2_sr_cld_col.map(add_cld_shdw_mask).map(apply_cld_shdw_mask).map(NDVIoverCollection).map(NDWIoverCollection).map(Fe2overCollection).map(SAVIoverCollection).map(MSIoverCollection))\n"
      ]
    },
    {
      "cell_type": "code",
      "execution_count": null,
      "metadata": {
        "id": "p8UCGm9AziTC"
      },
      "outputs": [],
      "source": [
        "#fill non null value in sericheckpoints_path = os.pes\n",
        "last_image = imageswithgaps\\\n",
        "  .reduce(ee.Reducer.firstNonNull())\\\n",
        "  .rename(bands)\\\n",
        "  .set({'system:index': 'first'})\n",
        "first = ee.List([last_image])\n",
        "\n",
        " #fill gaps then drop first image\n",
        "imageCol = ee.ImageCollection(ee.List(imageswithgaps.iterate(gap_fill, first)))\\\n",
        "  .filter(ee.Filter.neq('system:index', 'first'))\n",
        "\n",
        "#flatten bands\n",
        "imageCol_all = imageCol.toArrayPerBand()\n",
        "\n",
        "Tempextent = imageCol.size().getInfo()\n",
        "image = imageCol_all\n",
        "\n"
      ]
    },
    {
      "cell_type": "code",
      "execution_count": null,
      "metadata": {
        "colab": {
          "base_uri": "https://localhost:8080/"
        },
        "id": "KpbDfeWXnRlY",
        "outputId": "493a772a-c368-4356-8a4f-b603d7dadee3"
      },
      "outputs": [
        {
          "output_type": "execute_result",
          "data": {
            "text/plain": [
              "360"
            ]
          },
          "metadata": {},
          "execution_count": 37
        }
      ],
      "source": [
        "Tempextent"
      ]
    },
    {
      "cell_type": "code",
      "source": [
        "sample = image.sampleRegions(collection=labels, properties=[label], scale=100, tileScale=16).randomColumn()\n",
        "\n",
        "# Create a random seed for reproducibility\n",
        "seed = 123\n",
        "\n",
        "# Define the number of samples for each subset\n",
        "num_samples = 3\n",
        "\n",
        "# Sample only three points for each subset\n",
        "training = sample.filter(ee.Filter.And(ee.Filter.neq('Class_', 0))).randomColumn('random', seed).limit(num_samples)\n",
        "val = sample.filter(ee.Filter.And(ee.Filter.neq('Class_', 1))).randomColumn('random', seed).limit(num_samples)\n",
        "testing = sample.filter(ee.Filter.And(ee.Filter.neq('Class_', 1))).randomColumn('random', seed).limit(num_samples)\n",
        "\n",
        "# Merge training and validation datasets\n",
        "training_val = training.merge(val)\n",
        "\n",
        "# Print the sizes of the datasets\n",
        "print('Training size:', training.size().getInfo())\n",
        "print('Validation size:', val.size().getInfo())\n",
        "print('Testing size:', testing.size().getInfo())\n",
        "print('Training + Validation size:', training_val.size().getInfo())"
      ],
      "metadata": {
        "colab": {
          "base_uri": "https://localhost:8080/"
        },
        "id": "ElUs3NfDrBdi",
        "outputId": "a8d2950c-3c1a-4e9a-bb43-c0eefab43e3f"
      },
      "execution_count": null,
      "outputs": [
        {
          "output_type": "stream",
          "name": "stdout",
          "text": [
            "Training size: 3\n",
            "Validation size: 3\n",
            "Testing size: 3\n",
            "Training + Validation size: 6\n"
          ]
        }
      ]
    },
    {
      "cell_type": "code",
      "execution_count": null,
      "metadata": {
        "id": "PI-ZzdRUDJVJ"
      },
      "outputs": [],
      "source": [
        "\n",
        "# Sample the image at the points and add a random column.\n",
        "sample = image.sampleRegions(collection=labels, properties=[label], scale=100, tileScale=16).randomColumn()\n",
        "#sample1 = labels.map(lambda feature: feature.set(\\\n",
        "                       #image.reduceRegion(reducer='first',\\\n",
        "                                                  #geometry=feature.geometry(),\\\n",
        "                                                  #scale=10)))\n",
        "\n",
        "\n",
        "# Partition the sample approximately 65-5-30.\n",
        "training = sample#.filter(ee.Filter.lte('random',70))\n",
        "val =  sample#.filter(ee.Filter.gte('random', 0.30))\n",
        "testing = sample#.filter(ee.Filter.lte('random', 0.3))\n",
        "\n",
        "training = sample.filter(ee.Filter.And(ee.Filter.lte('random',0.2), ee.Filter.neq('Class',0)))\n",
        "val = sample.filter(ee.Filter.And(ee.Filter.gte('random',0.65), ee.Filter.neq('Class',1)))\n",
        "testing = testing = sample.filter(ee.Filter.gte('random', 0.4))\n",
        "\n",
        "\n",
        "from pprint import pprint\n",
        "\n",
        "# Print the first couple points to verify.\n",
        "#pprint({'training': training.first().getInfo()})\n",
        "#pprint({'validation': val.first().getInfo()})\n",
        "#pprint({'testing': testing.first().getInfo()})\n"
      ]
    },
    {
      "cell_type": "code",
      "execution_count": null,
      "metadata": {
        "colab": {
          "base_uri": "https://localhost:8080/"
        },
        "id": "mS71rCNt3pLB",
        "outputId": "7688a36a-1a01-489a-b98a-326f2da86927"
      },
      "outputs": [
        {
          "output_type": "stream",
          "name": "stdout",
          "text": [
            "Can not find output Cloud Storage bucket.\n"
          ]
        }
      ],
      "source": [
        "\n",
        "# Make sure you can see the output bucket.  You must have write access.\n",
        "print('Found Cloud Storage bucket.' if tf.io.gfile.exists('gs://' + OUTPUT_BUCKET)\n",
        "    else 'Can not find output Cloud Storage bucket.')"
      ]
    },
    {
      "cell_type": "code",
      "execution_count": null,
      "metadata": {
        "id": "F16L8tBhu1AW"
      },
      "outputs": [],
      "source": [
        "\n",
        "# This is list of all the properties we want to export.\n",
        "featureNames = list(bands)\n",
        "featureNames.append(label)"
      ]
    },
    {
      "cell_type": "code",
      "source": [
        "# Create the tasks.\n",
        "training_task = ee.batch.Export.table.toDrive(\n",
        "  collection= training_val,\n",
        "  description='Training Export',\n",
        "  fileNamePrefix='Support_3shot',\n",
        "  #bucket=OUTPUT_BUCKET,\n",
        "  fileFormat='TFRecord',\n",
        "  selectors=featureNames)\n",
        "\n"
      ],
      "metadata": {
        "id": "9GPAi6sMAVVm"
      },
      "execution_count": null,
      "outputs": []
    },
    {
      "cell_type": "code",
      "execution_count": null,
      "metadata": {
        "id": "EaLV80lGC1Kh"
      },
      "outputs": [],
      "source": [
        "# Create the tasks.\n",
        "training_task = ee.batch.Export.table.toDrive(\n",
        "  collection= training,\n",
        "  description='Training Export',\n",
        "  fileNamePrefix='Query2_Geluk',\n",
        "  #bucket=OUTPUT_BUCKET,\n",
        "  fileFormat='TFRecord',\n",
        "  selectors=featureNames)\n",
        "\n",
        "validation_task = ee.batch.Export.table.toDrive(\n",
        "  collection=val ,\n",
        "  description='Validation Export',\n",
        "  fileNamePrefix=VAL_FILE_PREFIX,\n",
        "  #bucket=OUTPUT_BUCKET,\n",
        "  fileFormat='TFRecord',\n",
        "  selectors=featureNames)\n",
        "\n",
        "testing_task = ee.batch.Export.table.toDrive(\n",
        "  collection=testing,\n",
        "  description='Testing Export',\n",
        "  fileNamePrefix=TEST_FILE_PREFIX,\n",
        "  #bucket=OUTPUT_BUCKET,\n",
        "  fileFormat='TFRecord',\n",
        "  selectors=featureNames)\n"
      ]
    },
    {
      "cell_type": "code",
      "execution_count": null,
      "metadata": {
        "id": "_hkE0uasDNnu"
      },
      "outputs": [],
      "source": [
        "\n",
        "# Start the tasks.\n",
        "training_task.start()\n",
        "#validation_task.start()\n",
        "#testing_task.start()\n"
      ]
    },
    {
      "cell_type": "code",
      "execution_count": null,
      "metadata": {
        "colab": {
          "base_uri": "https://localhost:8080/"
        },
        "id": "XOQmPsWfDjdc",
        "outputId": "ebc3cb9b-002e-4411-9d55-0d4c4fac984b"
      },
      "outputs": [
        {
          "output_type": "stream",
          "name": "stdout",
          "text": [
            "Found existing training file.\n",
            "Found existing validation file.\n",
            "Found existing testing file.\n"
          ]
        }
      ],
      "source": [
        "\n",
        "print('Found existing training file.' if tf.io.gfile.exists(TRAIN_FILE_PATH)\n",
        "    else 'No training file found.')\n",
        "print('Found existing validation file.' if tf.io.gfile.exists(VAL_FILE_PATH)\n",
        "    else 'No validation file found.')\n",
        "print('Found existing testing file.' if tf.io.gfile.exists(TEST_FILE_PATH)\n",
        "    else 'No testing file found.')"
      ]
    },
    {
      "cell_type": "code",
      "execution_count": null,
      "metadata": {
        "id": "oHMJ6Ib5Q9kB"
      },
      "outputs": [],
      "source": [
        "\n",
        "import numpy as np\n",
        "#define bands and dim\n",
        "patchdim = 64\n",
        "fmap = dict(zip(list(bands), np.repeat(Tempextent,len(bands)).tolist()))"
      ]
    },
    {
      "cell_type": "code",
      "execution_count": null,
      "metadata": {
        "id": "sdCNRmBiRFAw"
      },
      "outputs": [],
      "source": []
    },
    {
      "cell_type": "code",
      "execution_count": null,
      "metadata": {
        "id": "NIm8ANWZ-_6O"
      },
      "outputs": [],
      "source": [
        "# Specify patch and file dimensions.\n",
        "image_export_options = {\n",
        "  'patchDimensions': [64, 64],\n",
        "  'maxFileSize': 104857600000,\n",
        "  'compressed': True,\n",
        "  'tensorDepths': fmap\n",
        "}\n",
        "\n",
        "# Setup the task.\n",
        "image_task = ee.batch.Export.image.toCloudStorage(\n",
        "  image=image,\n",
        "  description='Image Export',\n",
        "  fileNamePrefix=IMAGE_FILE_PREFIX,\n",
        "  bucket=OUTPUT_BUCKET,\n",
        "  maxPixels=200000000,\n",
        "  scale=10,\n",
        "  fileFormat='TFRecord',\n",
        "  region= AOI2,\n",
        "  formatOptions=image_export_options,\n",
        ")"
      ]
    },
    {
      "cell_type": "code",
      "execution_count": null,
      "metadata": {
        "id": "PSUVWZZv_QZN"
      },
      "outputs": [],
      "source": [
        "# Start the task.\n",
        "image_task.start()"
      ]
    },
    {
      "cell_type": "code",
      "execution_count": null,
      "metadata": {
        "colab": {
          "base_uri": "https://localhost:8080/"
        },
        "id": "Yuajx5nQ_cFw",
        "outputId": "c91f7140-c87f-401c-f77c-d2a8175a9d73"
      },
      "outputs": [
        {
          "name": "stdout",
          "output_type": "stream",
          "text": [
            "[<Task L3MIP7YAH3G67QP6MKEDQOIP EXPORT_FEATURES: Training Export (FAILED)>,\n",
            " <Task WJ35IPIVTCVJ2CINAL4HVIFM EXPORT_FEATURES: Training Export (FAILED)>,\n",
            " <Task WVBM3V6LXBQSS7XYJECBNUSB EXPORT_FEATURES: Training Export (COMPLETED)>,\n",
            " <Task X35KFAOXYP3JC4Q4PAKNDP7S EXPORT_FEATURES: Testing Export (COMPLETED)>,\n",
            " <Task 4UVQPSLILAEHE47FZZ6CFDQN EXPORT_FEATURES: Validation Export (COMPLETED)>,\n",
            " <Task IWBAR4YT27M2DG6ZHI7GCSME EXPORT_FEATURES: Training Export (COMPLETED)>]\n"
          ]
        }
      ],
      "source": [
        "# Print all tasks.\n",
        "pprint(ee.batch.Task.list())"
      ]
    },
    {
      "cell_type": "code",
      "execution_count": null,
      "metadata": {
        "colab": {
          "base_uri": "https://localhost:8080/"
        },
        "id": "Fty_2q_wT2bM",
        "outputId": "ddc3f56e-b84c-401c-e811-f7795adf4366"
      },
      "outputs": [
        {
          "name": "stdout",
          "output_type": "stream",
          "text": [
            "Done with image export.\n"
          ]
        }
      ],
      "source": [
        "import time\n",
        "\n",
        "while image_task.active():\n",
        "  print('Polling for task (id: {}).'.format(image_task.id))\n",
        "  time.sleep(30)\n",
        "print('Done with image export.')"
      ]
    },
    {
      "cell_type": "code",
      "execution_count": null,
      "metadata": {
        "id": "eocOwh7sk8qO"
      },
      "outputs": [],
      "source": []
    }
  ],
  "metadata": {
    "colab": {
      "provenance": []
    },
    "kernelspec": {
      "display_name": "Python 3",
      "name": "python3"
    },
    "language_info": {
      "name": "python"
    }
  },
  "nbformat": 4,
  "nbformat_minor": 0
}